{
 "cells": [
  {
   "cell_type": "code",
   "execution_count": null,
   "metadata": {},
   "outputs": [],
   "source": []
  },
  {
   "cell_type": "code",
   "execution_count": 1,
   "metadata": {},
   "outputs": [
    {
     "name": "stdout",
     "output_type": "stream",
     "text": [
      "hola mundo\n"
     ]
    }
   ],
   "source": [
    "print(\"hola mundo\")"
   ]
  },
  {
   "cell_type": "markdown",
   "metadata": {},
   "source": [
    "# Operadores aritmeticos"
   ]
  },
  {
   "cell_type": "markdown",
   "metadata": {},
   "source": [
    "los operadores aritmeticos son los que nos permiten cosas sencillas, como sumas, restas ,multiplaciones, divisiones, etc."
   ]
  },
  {
   "cell_type": "code",
   "execution_count": 7,
   "metadata": {},
   "outputs": [
    {
     "name": "stdout",
     "output_type": "stream",
     "text": [
      "6\n",
      "1\n",
      "5.5\n",
      "5\n",
      "1\n"
     ]
    }
   ],
   "source": [
    "print(1+2+3)\n",
    "print(10-9)\n",
    "print(11/2)\n",
    "print(11//2)\n",
    "print(11%2)\n",
    "\n",
    "\n",
    "\n",
    "\n"
   ]
  },
  {
   "cell_type": "markdown",
   "metadata": {},
   "source": [
    "## Precedencia de operadores"
   ]
  },
  {
   "cell_type": "code",
   "execution_count": 9,
   "metadata": {},
   "outputs": [
    {
     "name": "stdout",
     "output_type": "stream",
     "text": [
      "9.0\n"
     ]
    }
   ],
   "source": [
    "print (2 * 2 + 12 / 2 - 1)\n",
    "# Esto es un comentario\n",
    "# con\n",
    "# muchas lineas   "
   ]
  },
  {
   "cell_type": "markdown",
   "metadata": {},
   "source": [
    "## Variable "
   ]
  },
  {
   "cell_type": "markdown",
   "metadata": {},
   "source": [
    "En programacion, las variables son espacios reservados en la memoria que, como su nombre indica, pueden cambiar de contenido a lo largo de la ejecucion del programa"
   ]
  },
  {
   "cell_type": "code",
   "execution_count": 10,
   "metadata": {},
   "outputs": [
    {
     "name": "stdout",
     "output_type": "stream",
     "text": [
      "10\n"
     ]
    }
   ],
   "source": [
    "numero1 = 10 \n",
    "print (numero1)"
   ]
  },
  {
   "cell_type": "markdown",
   "metadata": {},
   "source": [
    "## Crear dos variables, asignar valores numericos, y sumar los valores."
   ]
  },
  {
   "cell_type": "code",
   "execution_count": 11,
   "metadata": {},
   "outputs": [
    {
     "name": "stdout",
     "output_type": "stream",
     "text": [
      "33\n"
     ]
    }
   ],
   "source": [
    "numero1 =11\n",
    "numero2 =22\n",
    "\n",
    "print(numero1+numero2)\n"
   ]
  },
  {
   "cell_type": "code",
   "execution_count": 12,
   "metadata": {},
   "outputs": [
    {
     "name": "stdout",
     "output_type": "stream",
     "text": [
      "50\n"
     ]
    }
   ],
   "source": [
    "# Otra forma de agregar variables \n",
    "numero1 = 20\n",
    "numero2 = 30\n",
    "\n",
    "suma= numero1 + numero2\n",
    "\n",
    "\n",
    "print(suma)"
   ]
  },
  {
   "cell_type": "markdown",
   "metadata": {},
   "source": [
    "## Reglas para identificadores (nombres de variables)\n"
   ]
  },
  {
   "cell_type": "markdown",
   "metadata": {},
   "source": [
    "## No puede comenzar con un numero \n",
    "## Siempre debe estar en minusculas\n",
    "## Si nuestro identificador tiene mas de una palabra, separamos las palabras con guiones bajos suma_citrica"
   ]
  },
  {
   "cell_type": "markdown",
   "metadata": {},
   "source": [
    "\n",
    "____"
   ]
  },
  {
   "cell_type": "markdown",
   "metadata": {},
   "source": [
    "## Tipos de datos: primitivos\n",
    "\n",
    "## Numeros Enteros (integers,int)\n",
    "\n",
    "## Numeros de punto flotante, decimales (floats)\n",
    "\n",
    "## numeros enteros\n",
    "1\n",
    "12\n",
    "256\n",
    "\n",
    "## Numeros decimales \n",
    "3.14\n",
    "1.99\n",
    "100.123\n"
   ]
  },
  {
   "cell_type": "markdown",
   "metadata": {},
   "source": [
    "## Cadena de caracteres : texto, strings.\n"
   ]
  },
  {
   "cell_type": "code",
   "execution_count": 13,
   "metadata": {},
   "outputs": [
    {
     "name": "stdout",
     "output_type": "stream",
     "text": [
      "hello world\n"
     ]
    }
   ],
   "source": [
    "print (\"hello world\")"
   ]
  },
  {
   "cell_type": "markdown",
   "metadata": {},
   "source": [
    "## Booleanos "
   ]
  },
  {
   "cell_type": "code",
   "execution_count": 17,
   "metadata": {},
   "outputs": [
    {
     "name": "stdout",
     "output_type": "stream",
     "text": [
      "True\n",
      "False\n"
     ]
    }
   ],
   "source": [
    "es_vegetariano = True \n",
    "come_carne = False\n",
    "\n",
    "print(es_vegetariano)\n",
    "print(come_carne)"
   ]
  },
  {
   "cell_type": "markdown",
   "metadata": {},
   "source": [
    "##  Jugando con cadenas de caracteres (texto)"
   ]
  },
  {
   "cell_type": "code",
   "execution_count": 18,
   "metadata": {},
   "outputs": [
    {
     "name": "stdout",
     "output_type": "stream",
     "text": [
      "Arami\n",
      "Gimenez\n"
     ]
    }
   ],
   "source": [
    "nombre= \"Arami\"\n",
    "apellido= \"Gimenez\"\n",
    "\n",
    "print (nombre)\n",
    "print (apellido)"
   ]
  },
  {
   "cell_type": "code",
   "execution_count": 19,
   "metadata": {},
   "outputs": [
    {
     "name": "stdout",
     "output_type": "stream",
     "text": [
      "AramiGimenez\n"
     ]
    }
   ],
   "source": [
    "nombre= \"Arami\"\n",
    "apellido= \"Gimenez\"\n",
    "\n",
    "print (nombre+apellido)"
   ]
  },
  {
   "cell_type": "code",
   "execution_count": 20,
   "metadata": {},
   "outputs": [
    {
     "name": "stdout",
     "output_type": "stream",
     "text": [
      "AramiGimenez.\n"
     ]
    }
   ],
   "source": [
    "nombre= \"Arami\"\n",
    "espacio=  \".\"\n",
    "apellido= \"Gimenez\"\n",
    "\n",
    "\n",
    "print (nombre+apellido+espacio)"
   ]
  },
  {
   "cell_type": "code",
   "execution_count": 24,
   "metadata": {},
   "outputs": [
    {
     "name": "stdout",
     "output_type": "stream",
     "text": [
      "Arami Gimenez\n"
     ]
    }
   ],
   "source": [
    "nombre= \"Arami\"\n",
    "espacio=  \" \"\n",
    "apellido= \"Gimenez\"\n",
    "\n",
    "print(nombre+\" \"+apellido)"
   ]
  },
  {
   "cell_type": "markdown",
   "metadata": {},
   "source": [
    "## Frase Final\n",
    "## Hola ,mi nombre es Arami Gimenez. Mucho gusto. Y tengo 19 años."
   ]
  },
  {
   "cell_type": "markdown",
   "metadata": {},
   "source": [
    "## Crear tres variables nombre, apellido, edad y concatenar la frase final.\n"
   ]
  },
  {
   "cell_type": "code",
   "execution_count": 28,
   "metadata": {},
   "outputs": [
    {
     "name": "stdout",
     "output_type": "stream",
     "text": [
      "hola mi nombre es Arami Gimenez mucho gusto y tengo 19  años\n"
     ]
    }
   ],
   "source": [
    "\n",
    "nombre = \"Arami\"\n",
    "apellido = \"Gimenez\"\n",
    "edad = \"19\"\n",
    "print(\"hola mi nombre es \"+nombre+\" \"+apellido,\"mucho gusto y tengo \"+edad,\" años\")"
   ]
  },
  {
   "cell_type": "markdown",
   "metadata": {},
   "source": [
    "____"
   ]
  },
  {
   "cell_type": "markdown",
   "metadata": {},
   "source": [
    "## Convirtiendo datos a un tipo diferente"
   ]
  },
  {
   "cell_type": "code",
   "execution_count": 34,
   "metadata": {},
   "outputs": [
    {
     "name": "stdout",
     "output_type": "stream",
     "text": [
      "20\n",
      "30\n",
      "<class 'str'>\n",
      "<class 'str'>\n",
      "50\n"
     ]
    }
   ],
   "source": [
    "## Primer ingreso de numero\n",
    "numero1 = int(input( \"Escriba un numero, porfavor\"))\n",
    "\n",
    "print(numero1)\n",
    "\n",
    "## Segundo ingreso de numero \n",
    "numero2 = int(input( \"Escriba otro numero, porfavor\"))\n",
    "print (numero2)\n",
    "\n",
    "##tipo de variable \n",
    "print (type(numero1))\n",
    "print (type(numero2))\n",
    "\n",
    "##conversion de tipo de dato \n",
    "numero1 =int(numero1)\n",
    "numero2 =int(numero2)\n",
    "\n",
    "## Suma de ambas variables \n",
    "\n",
    "print (numero1+numero2)\n",
    "\n",
    "10\n"
   ]
  },
  {
   "cell_type": "markdown",
   "metadata": {},
   "source": [
    "### Numero a texto"
   ]
  },
  {
   "cell_type": "code",
   "execution_count": 35,
   "metadata": {},
   "outputs": [
    {
     "name": "stdout",
     "output_type": "stream",
     "text": [
      "El valor de pi es3.1415992\n"
     ]
    }
   ],
   "source": [
    "frase_pi = (\"El valor de pi es\")\n",
    "valor_pi = 3.1415992\n",
    "valor_pi = str(valor_pi)\n",
    "\n",
    "\n",
    "print(frase_pi+str(valor_pi))\n"
   ]
  },
  {
   "cell_type": "markdown",
   "metadata": {},
   "source": [
    "### challenge"
   ]
  },
  {
   "cell_type": "markdown",
   "metadata": {},
   "source": [
    "### solicitar por teclado al usuario los siguientes datos: nombre, apellido, anho de nacimiento\n",
    "## En pantalla: Mi nombre es Arami Gimenez y tengo 19 anhos.\n"
   ]
  },
  {
   "cell_type": "code",
   "execution_count": 4,
   "metadata": {},
   "outputs": [
    {
     "name": "stdout",
     "output_type": "stream",
     "text": [
      "20\n",
      "Hola mi nombre esArami  20años\n"
     ]
    }
   ],
   "source": [
    "nombre = input( \"Escriba su nombre, porfavor\")\n",
    "apellido = input(\"Escriba su apellido, porfavor\")\n",
    "\n",
    "añoactual =int(input(\"añoactual\"))\n",
    "## año actual\n",
    "añoden2 =int(input(\"añoden2\"))\n",
    "## año de nacimiento\n",
    "\n",
    "edad = añoactual-añoden2\n",
    "edad = str(edad)\n",
    "\n",
    "print(edad)\n",
    "\n",
    "\n",
    "print(\"Hola mi nombre es\" + nombre + \" \" + edad + \"años\")\n",
    "\n",
    "\n",
    "\n",
    "\n",
    "\n",
    "\n"
   ]
  },
  {
   "cell_type": "code",
   "execution_count": null,
   "metadata": {},
   "outputs": [],
   "source": [
    "print(\"Mi nombre es\"+nombre+\"y tengo\"+(añoactual-añoden2))\n",
    "##no funciona xd"
   ]
  },
  {
   "cell_type": "code",
   "execution_count": 1,
   "metadata": {},
   "outputs": [
    {
     "name": "stdout",
     "output_type": "stream",
     "text": [
      "Hola, mi nombre es\n"
     ]
    },
    {
     "ename": "NameError",
     "evalue": "name 'nombre' is not defined",
     "output_type": "error",
     "traceback": [
      "\u001b[1;31m---------------------------------------------------------------------------\u001b[0m",
      "\u001b[1;31mNameError\u001b[0m                                 Traceback (most recent call last)",
      "Input \u001b[1;32mIn [1]\u001b[0m, in \u001b[0;36m<module>\u001b[1;34m\u001b[0m\n\u001b[0;32m      1\u001b[0m \u001b[38;5;28mprint\u001b[39m(\u001b[38;5;124m\"\u001b[39m\u001b[38;5;124mHola, mi nombre es\u001b[39m\u001b[38;5;124m\"\u001b[39m)\n\u001b[1;32m----> 2\u001b[0m \u001b[38;5;28mprint\u001b[39m(\u001b[43mnombre\u001b[49m)\n\u001b[0;32m      3\u001b[0m \u001b[38;5;28mprint\u001b[39m(\u001b[38;5;124m\"\u001b[39m\u001b[38;5;124my tengo\u001b[39m\u001b[38;5;124m\"\u001b[39m)\n\u001b[0;32m      4\u001b[0m \u001b[38;5;28mprint\u001b[39m(añoactual\u001b[38;5;241m-\u001b[39mañoden2)\n",
      "\u001b[1;31mNameError\u001b[0m: name 'nombre' is not defined"
     ]
    }
   ],
   "source": [
    "print(\"Hola, mi nombre es\")\n",
    "print(nombre)\n",
    "print(\"y tengo\")\n",
    "print(añoactual-añoden2)\n",
    "print(\"años\")\n",
    "## funciona caranchooooo\n",
    "print(\"Hola mi nombre es\" + nombre + \" \" + añoactual-añoden2 + \"años\")\n",
    "\n",
    "\n"
   ]
  }
 ],
 "metadata": {
  "interpreter": {
   "hash": "efce0a6b38bdae242caf4497921e05076efdbe9cc98512ca7ecac2160b9aef5d"
  },
  "kernelspec": {
   "display_name": "Python 3.10.2 64-bit",
   "language": "python",
   "name": "python3"
  },
  "language_info": {
   "codemirror_mode": {
    "name": "ipython",
    "version": 3
   },
   "file_extension": ".py",
   "mimetype": "text/x-python",
   "name": "python",
   "nbconvert_exporter": "python",
   "pygments_lexer": "ipython3",
   "version": "3.10.2"
  },
  "orig_nbformat": 4
 },
 "nbformat": 4,
 "nbformat_minor": 2
}
