{
 "cells": [
  {
   "cell_type": "markdown",
   "metadata": {},
   "source": [
    "### Operadores Logicos \n",
    "## True + True = True\n",
    "## True + False = False \n",
    "## False + True = False \n",
    "## False + False = False \n"
   ]
  },
  {
   "cell_type": "markdown",
   "metadata": {},
   "source": [
    "### OPERADOR and"
   ]
  },
  {
   "cell_type": "code",
   "execution_count": 1,
   "metadata": {},
   "outputs": [
    {
     "name": "stdout",
     "output_type": "stream",
     "text": [
      "False\n"
     ]
    }
   ],
   "source": [
    "es_alergica = True\n",
    "come_mani = False \n",
    "\n",
    "print(es_alergica and come_mani)\n"
   ]
  },
  {
   "cell_type": "code",
   "execution_count": 2,
   "metadata": {},
   "outputs": [
    {
     "name": "stdout",
     "output_type": "stream",
     "text": [
      "True\n"
     ]
    }
   ],
   "source": [
    "mayor_edad = True \n",
    "puede_tomar = True \n",
    "\n",
    "print(mayor_edad and puede_tomar)"
   ]
  },
  {
   "cell_type": "code",
   "execution_count": 3,
   "metadata": {},
   "outputs": [
    {
     "name": "stdout",
     "output_type": "stream",
     "text": [
      "False\n"
     ]
    }
   ],
   "source": [
    "mayor_edad = True \n",
    "colaboro_vaquita = False\n",
    "\n",
    "print(mayor_edad and colaboro_vaquita) "
   ]
  },
  {
   "cell_type": "markdown",
   "metadata": {},
   "source": [
    "### OPERADOR or "
   ]
  },
  {
   "cell_type": "code",
   "execution_count": 4,
   "metadata": {},
   "outputs": [
    {
     "name": "stdout",
     "output_type": "stream",
     "text": [
      "True\n"
     ]
    }
   ],
   "source": [
    "es_alergica = True \n",
    "come_mani = False \n",
    "\n",
    "print(es_alergica or come_mani)"
   ]
  },
  {
   "cell_type": "markdown",
   "metadata": {},
   "source": [
    "### OPERADOR not "
   ]
  },
  {
   "cell_type": "code",
   "execution_count": 5,
   "metadata": {},
   "outputs": [
    {
     "name": "stdout",
     "output_type": "stream",
     "text": [
      "False\n"
     ]
    }
   ],
   "source": [
    "print(not es_alergica)"
   ]
  },
  {
   "cell_type": "markdown",
   "metadata": {},
   "source": [
    "____"
   ]
  },
  {
   "cell_type": "markdown",
   "metadata": {},
   "source": [
    "### Operadores de Comparacion "
   ]
  },
  {
   "cell_type": "code",
   "execution_count": 6,
   "metadata": {},
   "outputs": [
    {
     "name": "stdout",
     "output_type": "stream",
     "text": [
      "True\n",
      "False\n",
      "False\n",
      "True\n",
      "True\n",
      "False\n",
      "True\n",
      "False\n",
      "False\n",
      "True\n",
      "True\n"
     ]
    }
   ],
   "source": [
    "# Lista de precios\n",
    "\n",
    "manzanas = 8800\n",
    "naranjas = 6000\n",
    "peras = 7500\n",
    "manzanas_verdes = 8800\n",
    "\n",
    "## Operamos con operadores \n",
    "## Operador igual que \n",
    "\n",
    "print(manzanas == manzanas_verdes)\n",
    "\n",
    "print(naranjas == peras)\n",
    "\n",
    "## Operador distinto de \n",
    "\n",
    "print(manzanas != manzanas_verdes)\n",
    "\n",
    "print(peras != manzanas_verdes)\n",
    "\n",
    "## Operador mayor que\n",
    " \n",
    "print(manzanas_verdes > peras)\n",
    "\n",
    "print(naranjas > manzanas)\n",
    "\n",
    "## Operador menor que \n",
    "\n",
    "print(naranjas < peras)\n",
    "\n",
    "print(manzanas_verdes < manzanas)\n",
    "\n",
    "## Operador  >= mayor o igual que \n",
    "\n",
    "print(naranjas >= manzanas)\n",
    "\n",
    "print(manzanas >= manzanas_verdes)\n",
    "\n",
    "## Operador menor o igual que \n",
    "\n",
    "print(naranjas <= manzanas_verdes)\n",
    "\n"
   ]
  },
  {
   "cell_type": "markdown",
   "metadata": {},
   "source": [
    "___"
   ]
  },
  {
   "cell_type": "markdown",
   "metadata": {},
   "source": [
    "## Condicionales "
   ]
  },
  {
   "cell_type": "code",
   "execution_count": 8,
   "metadata": {},
   "outputs": [
    {
     "name": "stdout",
     "output_type": "stream",
     "text": [
      "menor de edad\n"
     ]
    }
   ],
   "source": [
    "edad_laboral = 25\n",
    "\n",
    "if edad_laboral < 18: \n",
    "    print(\"menor de edad\")\n",
    "\n",
    "\n",
    "edad_laboral = 15\n",
    "\n",
    "if edad_laboral < 18: \n",
    "    print(\"menor de edad\")\n",
    "\n",
    "edad_laboral = input(\"Escriba su edad, porfavor\")\n",
    "\n",
    "if edad_laboral < 18: \n",
    "    print(\"Menor de edad\")\n",
    "elif edad_laboral < 65: \n",
    "    print(\"Jubilado\")\n",
    "else:\n",
    "    print(\"activo laboralmente\")\n",
    "    "
   ]
  },
  {
   "cell_type": "markdown",
   "metadata": {},
   "source": [
    "___"
   ]
  },
  {
   "cell_type": "markdown",
   "metadata": {},
   "source": [
    "# Si tienes menos de 18, no podes comprar \n",
    "# Si tienes entre 18 y 21, podes tomar pero no comprar \n",
    "# Si tienes mas de 21, puedes comprar y tomar "
   ]
  },
  {
   "cell_type": "code",
   "execution_count": 21,
   "metadata": {},
   "outputs": [
    {
     "name": "stdout",
     "output_type": "stream",
     "text": [
      "no puedes tomar ni comprar\n"
     ]
    }
   ],
   "source": [
    "edad= int(input(\"Escriba su edad, porfavor\"))\n",
    "if edad < 18: \n",
    "    print(\"no puedes tomar ni comprar\")\n",
    "elif edad >= 18 and edad <21: \n",
    "    print(\"puede tomar pero no puede comprar\")\n",
    "else:\n",
    "    print(\"Puede tomar y comprar\")"
   ]
  },
  {
   "cell_type": "code",
   "execution_count": 22,
   "metadata": {},
   "outputs": [
    {
     "name": "stdout",
     "output_type": "stream",
     "text": [
      "puede tomar pero no puede comprar\n"
     ]
    }
   ],
   "source": [
    "edad= int(input(\"Escriba su edad, porfavor\"))\n",
    "if edad < 18: \n",
    "    print(\"no puedes tomar ni comprar\")\n",
    "elif edad >= 18 and edad <21: \n",
    "    print(\"puede tomar pero no puede comprar\")\n",
    "else:\n",
    "    print(\"Puede tomar y comprar\")\n",
    "    "
   ]
  },
  {
   "cell_type": "code",
   "execution_count": 32,
   "metadata": {},
   "outputs": [
    {
     "name": "stdout",
     "output_type": "stream",
     "text": [
      "No tengo dinero\n",
      "no puedes tomar ni comprar\n"
     ]
    }
   ],
   "source": [
    "edad= int(input(\"Escriba su edad, porfavor\"))\n",
    "dinero = input(\"tienes dinero para comprar\")\n",
    "SI = (\"Tengo dinero\")\n",
    "NO = (\"No tengo dinero\")\n",
    "\n",
    "if SI < dinero:\n",
    "    print(\"tengo dinero\")\n",
    "elif NO > dinero: \n",
    "    print(\"No tengo dinero\")\n",
    "else:\n",
    "    print(\"Puede comprar\")  \n",
    "\n",
    "if edad < 18: \n",
    "    print(\"no puedes tomar ni comprar\")\n",
    "elif edad >= 18 and edad <21: \n",
    "    print(\"puede tomar pero no puede comprar\")\n",
    "else:\n",
    "    print(\"Puede tomar y comprar\")"
   ]
  },
  {
   "cell_type": "code",
   "execution_count": 34,
   "metadata": {},
   "outputs": [
    {
     "name": "stdout",
     "output_type": "stream",
     "text": [
      "Puede comprar\n",
      "Puede tomar y comprar\n"
     ]
    }
   ],
   "source": [
    "edad= int(input(\"Escriba su edad, porfavor\"))\n",
    "dinero = input(\"tienes dinero para comprar?\")\n",
    "SI = (\"Tengo dinero\")\n",
    "NO = (\"No tengo dinero\")\n",
    "\n",
    "if SI < dinero:\n",
    "    print(\"tengo dinero\")\n",
    "elif NO > dinero: \n",
    "    print(\"No tengo dinero\")\n",
    "else:\n",
    "    print(\"Puede comprar\") \n",
    "    \n",
    "\n",
    "if edad < 18: \n",
    "    print(\"No puedes tomar ni comprar\")\n",
    "elif edad >= 18 and edad <21: \n",
    "    print(\"Puede tomar pero no puede comprar\")\n",
    "else:\n",
    "    print(\"Puede tomar y comprar\")"
   ]
  },
  {
   "cell_type": "markdown",
   "metadata": {},
   "source": [
    "  ____"
   ]
  },
  {
   "cell_type": "markdown",
   "metadata": {},
   "source": [
    "## Listas "
   ]
  },
  {
   "cell_type": "code",
   "execution_count": 40,
   "metadata": {},
   "outputs": [
    {
     "name": "stdout",
     "output_type": "stream",
     "text": [
      "naranjas\n",
      "pinhas\n",
      "7\n",
      "['naranjas', 'peras', 'pinhas', 'kiwis', 'sandias', 'manzanas']\n",
      "None\n",
      "['naranjas', 'peras', 'toronjas', 'pinhas', 'kiwis', 'sandias', 'manzanas', 'manzanas']\n",
      "['naranjas', 'peras', 'toronjas', 'pinhas', 'kiwis', 'manzanas', 'manzanas']\n",
      "['naranjas', 'peras', 'toronjas', 'pinhas', 'manzanas', 'manzanas']\n"
     ]
    }
   ],
   "source": [
    "lista_frutas = [\"naranjas\", \"peras\", \"pinhas\", \"kiwis\", \"sandias\"]\n",
    "\n",
    "##Diferentes tipos de datos en linea\n",
    "\n",
    "lista_bool = [\"True\", \"False\", \"True\",\"False\"]\n",
    "lista_numeros = [1.99, 2, 3, 4.5, 5]\n",
    "lista_variada = [\"peras\", 10, False]\n",
    "\n",
    "##Acceso a los elementos de la lista\n",
    "\n",
    "print(lista_frutas[0])\n",
    "print(lista_frutas[2])\n",
    "\n",
    "##Recorrer la lista hacia atras \n",
    "\n",
    "print(len(lista_frutas[-1]))\n",
    "\n",
    "##Contar elementos a la lista\n",
    "\n",
    "lista_frutas.append(\"manzanas\")\n",
    "print(lista_frutas)\n",
    "\n",
    "print(lista_frutas.append(\"manzanas\"))\n",
    "\n",
    "##Añadir elemento en un indice especifico \n",
    "lista_frutas.insert(2, \"toronjas\")\n",
    "print(lista_frutas)\n",
    "\n",
    "## Eliminar elemento especifico por valor \n",
    "lista_frutas.remove(\"sandias\")\n",
    "print(lista_frutas)\n",
    "\n",
    "##Eliminar elemento por su indice\n",
    "lista_frutas.pop(4)\n",
    "print(lista_frutas)\n"
   ]
  },
  {
   "cell_type": "markdown",
   "metadata": {},
   "source": [
    "## Crear lista de productos de supermencado"
   ]
  },
  {
   "cell_type": "markdown",
   "metadata": {},
   "source": [
    "### Añadir un producto a la lista \n",
    "### Imprimir el ultimo producto agregado\n",
    "### Ingresar al cliente el codigo del producto que desea comprar \n",
    "### El codigo del producto debe ser su posicion dentro de la lista\n",
    "### Imprimir el producto que desea comprar el cliente\n"
   ]
  },
  {
   "cell_type": "code",
   "execution_count": 47,
   "metadata": {},
   "outputs": [
    {
     "name": "stdout",
     "output_type": "stream",
     "text": [
      "jugo de durazno\n",
      "queso\n",
      "['jugo de durazno', 'rapiditas', 'detergente', 'queso', 'jamon', 'papel higienico']\n",
      "['jugo de durazno', 'rapiditas', 'detergente', 'queso', 'jamon', 'papel higienico', 'manteca']\n",
      "jamon\n",
      "chale conchetumareee\n"
     ]
    }
   ],
   "source": [
    "lista_supermercado = [\"jugo de durazno\", \"rapiditas\", \"queso\", \"jamon\", \"papel higienico\"]\n",
    "print(lista_supermercado[0])\n",
    "print(lista_supermercado[2])\n",
    "\n",
    "lista_supermercado.insert(2, \"detergente\")\n",
    "print(lista_supermercado)\n",
    "\n",
    "lista_supermercado.append(\"manteca\")\n",
    "print(lista_supermercado)\n",
    "\n",
    "print(lista_supermercado[4])\n",
    "jautete = input(\"escriba lo que desee\")\n",
    "print(jautete)\n",
    "\n",
    "lista_numeros = [ 1, 2, 3, 4, 5] \n",
    "\n",
    "producto= (input(\"Escriba el producto que desea, porfavor\"))\n",
    "lista_numeros= int(input(\"Escriba el codigo del producto que desea comprar,porfavor\"))\n",
    "\n",
    "\n",
    "\n",
    "\n",
    "\n"
   ]
  },
  {
   "cell_type": "markdown",
   "metadata": {},
   "source": [
    "____"
   ]
  },
  {
   "cell_type": "markdown",
   "metadata": {},
   "source": [
    "# Bucles \n"
   ]
  },
  {
   "cell_type": "markdown",
   "metadata": {},
   "source": [
    "## Bucles condicionales "
   ]
  },
  {
   "cell_type": "code",
   "execution_count": 51,
   "metadata": {},
   "outputs": [
    {
     "name": "stdout",
     "output_type": "stream",
     "text": [
      "['agua', 'leche', 'pan', 'manteca', 'queso', 'jamon', 'panceta', 'cebolla', 'tomate', '', '', '', '', 'fin']\n"
     ]
    }
   ],
   "source": [
    "inventario = []\n",
    "producto = None\n",
    " \n",
    "while producto != \"fin\":\n",
    "    producto = input(\"introduce un producto,por favor: \")\n",
    "    inventario.append(producto)\n",
    "\n",
    "print(inventario)\n",
    "\n",
    "\n"
   ]
  },
  {
   "cell_type": "code",
   "execution_count": null,
   "metadata": {},
   "outputs": [],
   "source": [
    "inventario\n",
    "while producto != \"fin\":\n",
    "    producto = input(\"Ingrese \")"
   ]
  },
  {
   "cell_type": "markdown",
   "metadata": {},
   "source": [
    "## ___\n"
   ]
  },
  {
   "cell_type": "markdown",
   "metadata": {},
   "source": [
    "## Ejercicio \n"
   ]
  },
  {
   "cell_type": "markdown",
   "metadata": {},
   "source": [
    "## Escribir un programa que pregunte al usuario por la contraseña hasta que introduzca la contraseña correcta "
   ]
  },
  {
   "cell_type": "code",
   "execution_count": 6,
   "metadata": {},
   "outputs": [
    {
     "ename": "IndentationError",
     "evalue": "unexpected indent (506747359.py, line 8)",
     "output_type": "error",
     "traceback": [
      "\u001b[1;36m  Input \u001b[1;32mIn [6]\u001b[1;36m\u001b[0m\n\u001b[1;33m    if correcto <  contraseña:\u001b[0m\n\u001b[1;37m    ^\u001b[0m\n\u001b[1;31mIndentationError\u001b[0m\u001b[1;31m:\u001b[0m unexpected indent\n"
     ]
    }
   ],
   "source": [
    "\n",
    "contraseña = None\n",
    "incorrecto = False\n",
    "correcto = True\n",
    " \n",
    "while contraseña != \"aramigimenez\":\n",
    "    contraseña = input(\"introduce la contraseña,por favor: \")\n",
    "\n",
    "     if correcto < contraseña:\n",
    "        print(correcto)\n",
    "\n",
    "     else: \n",
    "           incorrecto =  (\"incorrecta\")\n",
    "           print(incorrecto)\n",
    "\n",
    "\n"
   ]
  },
  {
   "cell_type": "code",
   "execution_count": 1,
   "metadata": {},
   "outputs": [
    {
     "ename": "NameError",
     "evalue": "name 'contraseña' is not defined",
     "output_type": "error",
     "traceback": [
      "\u001b[1;31m---------------------------------------------------------------------------\u001b[0m",
      "\u001b[1;31mNameError\u001b[0m                                 Traceback (most recent call last)",
      "\u001b[1;32mc:\\Users\\arami\\PENGUIN ACADEMY\\DIA 2\\dia2.ipynb Cell 37'\u001b[0m in \u001b[0;36m<module>\u001b[1;34m\u001b[0m\n\u001b[0;32m      <a href='vscode-notebook-cell:/c%3A/Users/arami/PENGUIN%20ACADEMY/DIA%202/dia2.ipynb#ch0000036?line=0'>1</a>\u001b[0m \u001b[39m## el usuario tiene 3 intentos\u001b[39;00m\n\u001b[1;32m----> <a href='vscode-notebook-cell:/c%3A/Users/arami/PENGUIN%20ACADEMY/DIA%202/dia2.ipynb#ch0000036?line=2'>3</a>\u001b[0m \u001b[39mwhile\u001b[39;00m contraseña \u001b[39m!=\u001b[39m \u001b[39m\"\u001b[39m\u001b[39maramigimenez\u001b[39m\u001b[39m\"\u001b[39m:\n\u001b[0;32m      <a href='vscode-notebook-cell:/c%3A/Users/arami/PENGUIN%20ACADEMY/DIA%202/dia2.ipynb#ch0000036?line=3'>4</a>\u001b[0m     contraseña \u001b[39m=\u001b[39m \u001b[39minput\u001b[39m(\u001b[39m\"\u001b[39m\u001b[39mintroduce la contraseña,por favor: \u001b[39m\u001b[39m\"\u001b[39m)\n\u001b[0;32m      <a href='vscode-notebook-cell:/c%3A/Users/arami/PENGUIN%20ACADEMY/DIA%202/dia2.ipynb#ch0000036?line=5'>6</a>\u001b[0m \u001b[39melse\u001b[39;00m:\n",
      "\u001b[1;31mNameError\u001b[0m: name 'contraseña' is not defined"
     ]
    }
   ],
   "source": [
    "## el usuario tiene 3 intentos\n",
    "\n",
    "while contraseña != \"aramigimenez\":\n",
    "    contraseña = input(\"introduce la contraseña,por favor: \")\n",
    "\n",
    "else:\n",
    "    correcto =  (\"correcta\")\n",
    "print(correcto)\n",
    "\n",
    "\n",
    "\n"
   ]
  }
 ],
 "metadata": {
  "interpreter": {
   "hash": "efce0a6b38bdae242caf4497921e05076efdbe9cc98512ca7ecac2160b9aef5d"
  },
  "kernelspec": {
   "display_name": "Python 3.10.2 64-bit",
   "language": "python",
   "name": "python3"
  },
  "language_info": {
   "codemirror_mode": {
    "name": "ipython",
    "version": 3
   },
   "file_extension": ".py",
   "mimetype": "text/x-python",
   "name": "python",
   "nbconvert_exporter": "python",
   "pygments_lexer": "ipython3",
   "version": "3.10.2"
  },
  "orig_nbformat": 4
 },
 "nbformat": 4,
 "nbformat_minor": 2
}
