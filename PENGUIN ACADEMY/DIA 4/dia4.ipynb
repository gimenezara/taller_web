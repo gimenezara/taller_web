{
 "cells": [
  {
   "cell_type": "markdown",
   "metadata": {},
   "source": [
    "## Diccionarios"
   ]
  },
  {
   "cell_type": "code",
   "execution_count": 2,
   "metadata": {},
   "outputs": [
    {
     "ename": "IndentationError",
     "evalue": "unexpected indent (410187803.py, line 6)",
     "output_type": "error",
     "traceback": [
      "\u001b[1;36m  Input \u001b[1;32mIn [2]\u001b[1;36m\u001b[0m\n\u001b[1;33m    {\"nombre\": \"Enmanuel\",\u001b[0m\n\u001b[1;37m    ^\u001b[0m\n\u001b[1;31mIndentationError\u001b[0m\u001b[1;31m:\u001b[0m unexpected indent\n"
     ]
    }
   ],
   "source": [
    "mi_tarjeta_personal = {\"nombre\":\"Enmanuel\",\"apellido\":\"Ruffinelli\",\"numero_de_telefono\" : \"595982440500\",\"direccion\":\"Manuel del Castillo\"} \n",
    "\n",
    "\n",
    "\n",
    "\n",
    " {\"nombre\": \"Enmanuel\", \n",
    " \"apellido\":\"Ruffinelli\",\n",
    " \"numero_de_telefono\" : \"595982440500\",\n",
    " \"direccion\":\"Manuel del Castillo\"\n",
    " }\n",
    " \n",
    "lista = { 0: \"nombre\",1: \"apellido\"}\n",
    "\n",
    "computadora = {\"marca\": \" \",\"modelo\": \"Macbook Air\", \"anho\": 2017}\n",
    "\n",
    "## Acceder datos del diccionario\n",
    "print(mi_tarjeta_personal[\"nombre\"])\n",
    "print(mi_tarjeta_personal[\"direccion\"])\n",
    "\n",
    "## anhadir datos al diccionario\n",
    "\n",
    "mi_tarjeta_personal[\"barrio\"] = \"los laureles\"\n",
    "print(mi_tarjeta_personal)\n",
    "\n",
    "## actualizar datos al diccionario \n",
    "mi_tarjeta_personal[\"barrio\"] = \"Recoleta\"\n",
    "print(mi_tarjeta_personal)\n",
    "\n",
    "## Eliminar datos del diccionario : por clave \n",
    "del mi_tarjeta_personal[\"apellido\"]\n",
    "print(mi_tarjeta_personal)\n",
    "\n",
    "## Desplegar datos del diccionario\n",
    "print(mi_tarjeta_personal.keys())\n",
    "print(mi_tarjeta_personal.values())\n",
    "print(mi_tarjeta_personal.items())\n",
    "\n",
    "\n",
    "\n",
    "\n"
   ]
  },
  {
   "cell_type": "code",
   "execution_count": 3,
   "metadata": {},
   "outputs": [
    {
     "name": "stdout",
     "output_type": "stream",
     "text": [
      "{'nombre': 'Enrique', 'apellido': 'Zarate', 'telefonos': ['994256673', '981123123'], 'edad': 21, 'direcion': 'Asuncion, Barrio Obrero'}\n"
     ]
    }
   ],
   "source": [
    "contacto = {}\n",
    "\n",
    "contacto[\"nombre\"] = \"Enrique\"\n",
    "contacto[\"apellido\"] = \"Zarate\"\n",
    "contacto[\"telefonos\"] = [\"994256673\", \"981123123\"]\n",
    "contacto[\"edad\"] = 21\n",
    "contacto[\"direcion\"] = \"Asuncion, Barrio Obrero\"\n",
    "print(contacto)"
   ]
  },
  {
   "cell_type": "code",
   "execution_count": 10,
   "metadata": {},
   "outputs": [
    {
     "ename": "SyntaxError",
     "evalue": "closing parenthesis '}' does not match opening parenthesis '[' (2030111646.py, line 9)",
     "output_type": "error",
     "traceback": [
      "\u001b[1;36m  Input \u001b[1;32mIn [10]\u001b[1;36m\u001b[0m\n\u001b[1;33m    [{\"etiqueta\" : \"Personal\",\"numero\" : \"99944555666\"}, \"etiqueta\" : \"Trabajo\", \"numero\" : \"981222777\"}]\u001b[0m\n\u001b[1;37m                                                                                                       ^\u001b[0m\n\u001b[1;31mSyntaxError\u001b[0m\u001b[1;31m:\u001b[0m closing parenthesis '}' does not match opening parenthesis '['\n"
     ]
    }
   ],
   "source": [
    "contacto2 = {}\n",
    "##primera forma \n",
    "contacto2[\"Nombre\"] = \"Alex\"\n",
    "contacto2[\"Apellido\"] = \"Caceres\"\n",
    "contacto2[\"Telefonos\"] = { \"Personal\" : \"99356213\", \"Trabajo\" : \"994555666\"}\n",
    "print(contacto2[\"Telefonos\"][\"Personal\"] )\n",
    "## segunda forma\n",
    "contacto2[\"Telefonos\"]= \n",
    "[{\"etiqueta\" : \"Personal\",\"numero\" : \"99944555666\"}, \"etiqueta\" : \"Trabajo\", \"numero\" : \"981222777\"}]\n",
    "print(contacto2[\"Telefonos\"][0][\"Numero\"])\n",
    "\n"
   ]
  },
  {
   "cell_type": "markdown",
   "metadata": {},
   "source": [
    "## Challenge xd\n",
    "### replicar para las direcciones con la 2da forma\n"
   ]
  },
  {
   "cell_type": "code",
   "execution_count": 9,
   "metadata": {},
   "outputs": [
    {
     "ename": "TypeError",
     "evalue": "list indices must be integers or slices, not str",
     "output_type": "error",
     "traceback": [
      "\u001b[1;31m---------------------------------------------------------------------------\u001b[0m",
      "\u001b[1;31mTypeError\u001b[0m                                 Traceback (most recent call last)",
      "\u001b[1;32mc:\\Users\\arami\\PENGUIN ACADEMY\\DIA 4\\dia4.ipynb Cell 6'\u001b[0m in \u001b[0;36m<module>\u001b[1;34m\u001b[0m\n\u001b[0;32m      <a href='vscode-notebook-cell:/c%3A/Users/arami/PENGUIN%20ACADEMY/DIA%204/dia4.ipynb#ch0000006?line=0'>1</a>\u001b[0m contacto3 \u001b[39m=\u001b[39m {}\n\u001b[0;32m      <a href='vscode-notebook-cell:/c%3A/Users/arami/PENGUIN%20ACADEMY/DIA%204/dia4.ipynb#ch0000006?line=2'>3</a>\u001b[0m contacto3[\u001b[39m\"\u001b[39m\u001b[39mDirecciones\u001b[39m\u001b[39m\"\u001b[39m] \u001b[39m=\u001b[39m [\n\u001b[0;32m      <a href='vscode-notebook-cell:/c%3A/Users/arami/PENGUIN%20ACADEMY/DIA%204/dia4.ipynb#ch0000006?line=3'>4</a>\u001b[0m     {\u001b[39m\"\u001b[39m\u001b[39metiqueta\u001b[39m\u001b[39m\"\u001b[39m : \u001b[39m\"\u001b[39m\u001b[39mPersonal\u001b[39m\u001b[39m\"\u001b[39m,\u001b[39m\"\u001b[39m\u001b[39mDireccion\u001b[39m\u001b[39m\"\u001b[39m : \u001b[39m\"\u001b[39m\u001b[39mCmdte. Gamarra 830 entre Dr. Paiva\u001b[39m\u001b[39m\"\u001b[39m}, {\u001b[39m\"\u001b[39m\u001b[39metiqueta\u001b[39m\u001b[39m\"\u001b[39m : \u001b[39m\"\u001b[39m\u001b[39mTrabajo\u001b[39m\u001b[39m\"\u001b[39m, \u001b[39m\"\u001b[39m\u001b[39mDireccion\u001b[39m\u001b[39m\"\u001b[39m: \u001b[39m\"\u001b[39m\u001b[39mBrasilia 580\u001b[39m\u001b[39m\"\u001b[39m}\n\u001b[0;32m      <a href='vscode-notebook-cell:/c%3A/Users/arami/PENGUIN%20ACADEMY/DIA%204/dia4.ipynb#ch0000006?line=4'>5</a>\u001b[0m     ]\n\u001b[1;32m----> <a href='vscode-notebook-cell:/c%3A/Users/arami/PENGUIN%20ACADEMY/DIA%204/dia4.ipynb#ch0000006?line=5'>6</a>\u001b[0m \u001b[39mprint\u001b[39m(contacto3[\u001b[39m\"\u001b[39;49m\u001b[39mDirecciones\u001b[39;49m\u001b[39m\"\u001b[39;49m] [\u001b[39m\"\u001b[39;49m\u001b[39mDireccion\u001b[39;49m\u001b[39m\"\u001b[39;49m])\n",
      "\u001b[1;31mTypeError\u001b[0m: list indices must be integers or slices, not str"
     ]
    }
   ],
   "source": [
    "contacto3 = {}\n",
    "\n",
    "contacto3[\"Direcciones\"] = [\n",
    "    {\"etiqueta\" : \"Personal\",\"Direccion\" : \"Cmdte. Gamarra 830 entre Dr. Paiva\"}, {\"etiqueta\" : \"Trabajo\", \"Direccion\": \"Brasilia 580\"}\n",
    "    ]\n",
    "print(contacto3[\"Direcciones\"] [\"Direccion\"])\n",
    "\n"
   ]
  },
  {
   "cell_type": "markdown",
   "metadata": {},
   "source": [
    "## Challenge\n",
    "- Agenda\n",
    "## El usuario puede elegir: \n",
    "- Crear contacto\n",
    "- Mostrar los contactos\n",
    "- Modificar\n",
    "- Eliminar datos del contacto\n",
    "- Eliminar contacto \n",
    " "
   ]
  },
  {
   "cell_type": "code",
   "execution_count": 1,
   "metadata": {},
   "outputs": [
    {
     "ename": "TypeError",
     "evalue": "string indices must be integers",
     "output_type": "error",
     "traceback": [
      "\u001b[1;31m---------------------------------------------------------------------------\u001b[0m",
      "\u001b[1;31mTypeError\u001b[0m                                 Traceback (most recent call last)",
      "\u001b[1;32mc:\\Users\\arami\\PENGUIN ACADEMY\\DIA 4\\dia4.ipynb Cell 8'\u001b[0m in \u001b[0;36m<module>\u001b[1;34m\u001b[0m\n\u001b[0;32m      <a href='vscode-notebook-cell:/c%3A/Users/arami/PENGUIN%20ACADEMY/DIA%204/dia4.ipynb#ch0000007?line=0'>1</a>\u001b[0m crear_contacto \u001b[39m=\u001b[39m {}\n\u001b[0;32m      <a href='vscode-notebook-cell:/c%3A/Users/arami/PENGUIN%20ACADEMY/DIA%204/dia4.ipynb#ch0000007?line=1'>2</a>\u001b[0m crear_contacto [\u001b[39m\"\u001b[39m\u001b[39mArami\u001b[39m\u001b[39m\"\u001b[39m]\u001b[39m=\u001b[39m (\u001b[39minput\u001b[39m({ \u001b[39m\"\u001b[39m\u001b[39mPersonal\u001b[39m\u001b[39m\"\u001b[39m : \u001b[39m\"\u001b[39m\u001b[39m \u001b[39m\u001b[39m\"\u001b[39m, \u001b[39m\"\u001b[39m\u001b[39mTrabajo\u001b[39m\u001b[39m\"\u001b[39m : \u001b[39m\"\u001b[39m\u001b[39m \u001b[39m\u001b[39m\"\u001b[39m}))\n\u001b[1;32m----> <a href='vscode-notebook-cell:/c%3A/Users/arami/PENGUIN%20ACADEMY/DIA%204/dia4.ipynb#ch0000007?line=2'>3</a>\u001b[0m \u001b[39mprint\u001b[39m(crear_contacto[\u001b[39m\"\u001b[39;49m\u001b[39mArami\u001b[39;49m\u001b[39m\"\u001b[39;49m][\u001b[39m\"\u001b[39;49m\u001b[39mPersonal\u001b[39;49m\u001b[39m\"\u001b[39;49m][\u001b[39m\"\u001b[39m\u001b[39mTrabajo\u001b[39m\u001b[39m\"\u001b[39m])\n",
      "\u001b[1;31mTypeError\u001b[0m: string indices must be integers"
     ]
    }
   ],
   "source": [
    "crear_contacto = {}\n",
    "crear_contacto [\"Arami\"]= (input({ \"Personal\" : \" \", \"Trabajo\" : \" \"}))\n",
    "print(crear_contacto[\"Arami\"][\"Personal\"][\"Trabajo\"])\n",
    "\n",
    "\n",
    "\n",
    "## mostrar los contactos \n",
    "\n",
    "## modificar\n",
    "## eliminar datos del contacto  \n",
    "## eliminar contacto \n",
    "\n",
    "\n",
    "    \n",
    "\n",
    "\n",
    "\n"
   ]
  },
  {
   "cell_type": "code",
   "execution_count": 3,
   "metadata": {},
   "outputs": [
    {
     "ename": "SyntaxError",
     "evalue": "invalid syntax (71445083.py, line 18)",
     "output_type": "error",
     "traceback": [
      "\u001b[1;36m  Input \u001b[1;32mIn [3]\u001b[1;36m\u001b[0m\n\u001b[1;33m    para contacto en agenda:\u001b[0m\n\u001b[1;37m         ^\u001b[0m\n\u001b[1;31mSyntaxError\u001b[0m\u001b[1;31m:\u001b[0m invalid syntax\n"
     ]
    }
   ],
   "source": [
    "##solucion de maura\n",
    "\n",
    "\n",
    "def crear_contacto(nombre, apellido, telefono, direccion):\n",
    "    # Crear diccionario\n",
    "    contacto = {}\n",
    "    # cargar datos\n",
    "    contacto[\"Nombre\"] = nombre\n",
    "    contacto[\"Apellido\"] = apellido\n",
    "    contacto[\"Telefono\"] = telefono\n",
    "    contacto[\"Dirección\"] = dirección\n",
    "    # Cargar una agenda\n",
    "    agenda.append(contacto)\n",
    " \n",
    "agenda = []\n",
    " \n",
    "def mostrar_contacto(agenda):\n",
    "    para contacto en agenda:\n",
    "        #print(agenda[0][\"Nombre\"])\n",
    "        print(\"Nombre:\", contacto[\"Nombre\"])\n",
    "        print(\"Apellido:\", contacto[\"Apellido\"])\n",
    "        print(\"Telefono:\", contacto[\"Telefono\"])\n",
    "        print(\"Dirección:\", contacto[\"Dirección\"])\n",
    " \n",
    "# Preguntar por opcion\n",
    "opcion = int(input(\"Seleccione una opcion: \"))\n",
    " \n",
    "mientras que es cierto:\n",
    "    si opción == 2:\n",
    "        # carga de datos\n",
    "        nombre_del_contacto = input(\"Ingrese nombre\")\n",
    "        apellido_del_contacto = input(\"Ingrese apellido\")\n",
    "        telefono_del_contacto = input(\"Ingrese telefono\")\n",
    "        direccion_del_contacto = input(\"Ingresa direccion\")\n",
    "        # llamar a la funcion\n",
    "        crear_contacto(nombre_del_contacto,\n",
    "        apellido_del_contacto, telefono_del_contacto, \n",
    "        direccion_del_contacto)\n",
    "        imprimir (agenda)\n",
    "    elif opción == 1:\n",
    "        mostrar_contacto(agenda)\n",
    " \n",
    "    elif opción == 3:\n",
    "        para índice, persona en enumerar (agenda):\n",
    "            print(\"Número \" + str(índice + 1), \n",
    "            personaje[\"Nombre\"] )\n",
    " \n",
    "        nro_que_quiere_editar = int(\n",
    "            input(\"Nro que quiere editar\")) - 1\n",
    "        # Pedir datos del usuario\n",
    "        dato_a_editar = input(\"Dato a editar\")\n",
    "        nuevo_dato = input(\"Ingrese el nuevo dato\")\n",
    "        # cargar datos\n",
    "        agenda[nro_que_quiere_editar][dato_a_editar] = nuevo_dato\n",
    "\n",
    "    elif opcion == 4:\n",
    "        if crear_contacto is \"fin\"\n",
    "        print(crear_contacto)\n",
    " \n",
    " \n",
    "    opcion = int(input(\"Seleccione una opcion: \"))\n",
    " \n",
    " \n",
    " \n"
   ]
  },
  {
   "cell_type": "markdown",
   "metadata": {},
   "source": [
    "## ________________________________________"
   ]
  }
 ],
 "metadata": {
  "interpreter": {
   "hash": "efce0a6b38bdae242caf4497921e05076efdbe9cc98512ca7ecac2160b9aef5d"
  },
  "kernelspec": {
   "display_name": "Python 3.10.2 64-bit",
   "language": "python",
   "name": "python3"
  },
  "language_info": {
   "codemirror_mode": {
    "name": "ipython",
    "version": 3
   },
   "file_extension": ".py",
   "mimetype": "text/x-python",
   "name": "python",
   "nbconvert_exporter": "python",
   "pygments_lexer": "ipython3",
   "version": "3.10.2"
  },
  "orig_nbformat": 4
 },
 "nbformat": 4,
 "nbformat_minor": 2
}
