{
 "cells": [
  {
   "cell_type": "markdown",
   "metadata": {},
   "source": [
    "## Bucles Iterativos *For*"
   ]
  },
  {
   "cell_type": "code",
   "execution_count": 1,
   "metadata": {},
   "outputs": [
    {
     "name": "stdout",
     "output_type": "stream",
     "text": [
      "a\n",
      "r\n",
      "a\n",
      "m\n",
      "i\n"
     ]
    }
   ],
   "source": [
    "palabra = input (\"Introduzca una palabra\")\n",
    "\n",
    "for letra in palabra : \n",
    "    print (letra)\n",
    "\n"
   ]
  },
  {
   "cell_type": "code",
   "execution_count": 6,
   "metadata": {},
   "outputs": [
    {
     "name": "stdout",
     "output_type": "stream",
     "text": [
      "Inventario 4 de febrero\n",
      "___________\n",
      "leche\n",
      "**********\n",
      "pan\n",
      "**********\n",
      "whisky\n",
      "**********\n",
      "queso\n",
      "**********\n",
      "jamon\n",
      "**********\n",
      "cerveza\n",
      "**********\n",
      "6\n",
      "0\n",
      "leche\n",
      "1\n",
      "pan\n",
      "2\n",
      "whisky\n",
      "3\n",
      "queso\n",
      "4\n",
      "jamon\n"
     ]
    }
   ],
   "source": [
    "inventario =[\"leche\", \"pan\", \"whisky\", \"queso\", \"jamon\", \"cerveza\"]\n",
    "\n",
    "print(\"Inventario 4 de febrero\")\n",
    "print(\"___________\")\n",
    "\n",
    "for producto in inventario: \n",
    "    print(producto)\n",
    "    print(\"**********\")\n",
    "\n",
    "print(len(inventario))\n",
    "\n",
    "for num in range(5): \n",
    "    print (num)          ## 0, 1, 2, 3, 4\n",
    "    print (inventario[num]) ## \"leche\", \"pan\", \"whisky\", \"queso\"\n",
    "\n",
    "    \n",
    "\n",
    "\n",
    "\n",
    "## Producto nro.1: Leche\n",
    "## Producto nro.2: Pan \n",
    "\n",
    "## imprimir todos los productos"
   ]
  },
  {
   "cell_type": "markdown",
   "metadata": {},
   "source": [
    "## Challenge\n",
    "## Imprimir el listado de productos \n",
    "#### Ejemplo:\n",
    "#### Producto nro.1: Leche\n",
    "#### Producto nro.2: Pan "
   ]
  },
  {
   "cell_type": "code",
   "execution_count": 4,
   "metadata": {},
   "outputs": [
    {
     "ename": "SyntaxError",
     "evalue": "invalid syntax (424698462.py, line 7)",
     "output_type": "error",
     "traceback": [
      "\u001b[1;36m  Input \u001b[1;32mIn [4]\u001b[1;36m\u001b[0m\n\u001b[1;33m    :\u001b[0m\n\u001b[1;37m    ^\u001b[0m\n\u001b[1;31mSyntaxError\u001b[0m\u001b[1;31m:\u001b[0m invalid syntax\n"
     ]
    }
   ],
   "source": [
    "inventario =[\"leche\", \"pan\", \"whisky\", \"queso\", \"jamon\", \"cerveza\", \"carne\", \"mayonesa\"]\n",
    "print(\"Inventario 4 de febrero\")\n",
    "print(\"___________\")\n",
    "contador = 0\n",
    "\n",
    "    \n",
    ": \n",
    "         ## 0, 1, 2,for num in range(8) 3, 4, 5, 6, 7, 8, 9\n",
    "    contador=contador +1\n",
    "    print(\"Producto nro \" +str(contador)+\" \"+ inventario[num])\n",
    "\n",
    "    \n",
    "    \n",
    "    ## leche\", \"pan\", \"whisky\", \"queso\"\n",
    "\n",
    "\n",
    "\n",
    "\n"
   ]
  },
  {
   "cell_type": "code",
   "execution_count": 26,
   "metadata": {},
   "outputs": [
    {
     "name": "stdout",
     "output_type": "stream",
     "text": [
      "Producto Nro. 1 leche\n",
      "Producto Nro. 2 pan\n",
      "Producto Nro. 3 azucar\n",
      "Producto Nro. 4 huevo\n",
      "Producto Nro. 5 queso\n"
     ]
    }
   ],
   "source": [
    "## Ejemplo de Sebas\n",
    "inventario = [\"leche\", \"pan\", \"azucar\", \"huevo\", \"queso\"]\n",
    "cantidad = len(inventario)\n",
    "for producto in range(cantidad):\n",
    "    print(\"Producto Nro.\", producto + 1 , inventario[producto])\n"
   ]
  },
  {
   "cell_type": "code",
   "execution_count": 27,
   "metadata": {},
   "outputs": [
    {
     "name": "stdout",
     "output_type": "stream",
     "text": [
      "leche\n",
      "pan\n",
      "azucar\n",
      "huevo\n",
      "queso\n"
     ]
    }
   ],
   "source": [
    "inventario_remix = [\"leche\", \"pan\", \"azucar\", \"huevo\", \"queso\", \"vodka\", \"whisky\", \"ron\"]\n",
    "\n",
    "inventario_mas_18 = [\"vodka\", \"whisky\", \"ron\"]\n",
    "\n",
    "## cantidad = len(inventario_remix)\n",
    "\n",
    "for producto in inventario_remix:\n",
    "    if producto not in inventario_mas_18:\n",
    "        print(producto)\n",
    "        "
   ]
  },
  {
   "cell_type": "code",
   "execution_count": 35,
   "metadata": {},
   "outputs": [
    {
     "ename": "IndentationError",
     "evalue": "unexpected indent (14218410.py, line 7)",
     "output_type": "error",
     "traceback": [
      "\u001b[1;36m  Input \u001b[1;32mIn [35]\u001b[1;36m\u001b[0m\n\u001b[1;33m    inventario_remix)\u001b[0m\n\u001b[1;37m    ^\u001b[0m\n\u001b[1;31mIndentationError\u001b[0m\u001b[1;31m:\u001b[0m unexpected indent\n"
     ]
    }
   ],
   "source": [
    "## Metodo 1: con rango\n",
    "\n",
    "inventario_remix = [\"leche\", \"vodka\", \"pan\", \"whisky\", \"azucar\", \"ron\",\"huevo\", \"queso\"]\n",
    "inventario_mas_18 = [\"vodka\", \"whisky\", \"ron\"]\n",
    "\n",
    "cantidad_de_productos_del_inventario_remix = len(cantidad)\n",
    "    inventario_remix)\n",
    "for indice_del_producto in range (cantidad_de_productos_del_inventario_remix):\n",
    "    if inventario_remix[indice_del_producto] not in inventario_mas_18:\n",
    "        print (inventario_remix[indice_del_producto])\n",
    "\n",
    "\n",
    "## Metodo 2: por elemento\n",
    "\n",
    "inventario_remix = [\"leche\", \"vodka\", \"pan\", \"whisky\", \"azucar\", \"ron\", \"huevo\", \"queso\"]\n",
    "inventario_mas_18 = [\"vodka\", \"whisky\", \"ron\"]\n",
    "\n",
    "#cantidad = len(inventario_remix)\n",
    " for producto in inventario_remix:\n",
    "     if producto not in inventario_mas_18:\n",
    "         print(producto)"
   ]
  },
  {
   "cell_type": "code",
   "execution_count": 13,
   "metadata": {},
   "outputs": [
    {
     "name": "stdout",
     "output_type": "stream",
     "text": [
      "h\n",
      "o\n",
      "l\n",
      "a\n",
      " \n",
      "m\n",
      "u\n",
      "n\n",
      "d\n",
      "o\n",
      "h\n",
      "o\n",
      "l\n",
      "a\n",
      " \n",
      "m\n",
      "m\n",
      "u\n",
      "n\n",
      "d\n",
      "o\n"
     ]
    }
   ],
   "source": [
    "## Escribir un programa en el que se pregunte al usuario por una frase y una letra, y muestre por pantalla el \n",
    "# numero de veces que aparece en la frase.\n",
    "\n",
    "\n",
    "frase=input(\"ingrese la frase\")\n",
    "letra_ingresada=input(\"ingrese la letra\")\n",
    "cantidad_letra= len(letra_ingresada)\n",
    "\n",
    "\n",
    "for letra in frase :\n",
    "    print(letra)\n",
    "\n",
    "for letra_ingresada in frase:\n",
    "    print(letra_ingresada)\n",
    "\n",
    "if letra_ingresada == \"m\":\n",
    "        print(letra_ingresada)\n",
    " \n",
    " print()\n",
    "\n",
    "\n",
    " \n",
    "\n",
    "\n",
    "    \n",
    "\n",
    "\n",
    "\n",
    "\n",
    "        ##NO TERMINASTE\n",
    "\n",
    "\n",
    "\n",
    "    \n",
    "    \n"
   ]
  },
  {
   "cell_type": "markdown",
   "metadata": {},
   "source": [
    "_____"
   ]
  },
  {
   "cell_type": "markdown",
   "metadata": {},
   "source": [
    "## Funciones"
   ]
  },
  {
   "cell_type": "code",
   "execution_count": 19,
   "metadata": {},
   "outputs": [
    {
     "data": {
      "text/plain": [
       "500"
      ]
     },
     "execution_count": 19,
     "metadata": {},
     "output_type": "execute_result"
    }
   ],
   "source": [
    "## funcion y parametros \n",
    "def suma_de_precios(monto1, monto2):\n",
    "    suma = monto1 + monto2\n",
    "    return suma                         \n",
    "\n",
    "suma_de_precios (300, 200)\n",
    "##print(suma_de_precios(300, 200))\n"
   ]
  },
  {
   "cell_type": "code",
   "execution_count": 17,
   "metadata": {},
   "outputs": [
    {
     "name": "stdout",
     "output_type": "stream",
     "text": [
      "Te doy la bienvenida Steven !\n",
      "None\n"
     ]
    }
   ],
   "source": [
    "def bienvenida (nombre):\n",
    "    print(\"Te doy la bienvenida\", nombre,\"!\")\n",
    "\n",
    "print(bienvenida(\"Steven\"))\n"
   ]
  },
  {
   "cell_type": "markdown",
   "metadata": {},
   "source": [
    "______"
   ]
  },
  {
   "cell_type": "markdown",
   "metadata": {},
   "source": [
    "## Alcance Local"
   ]
  },
  {
   "cell_type": "code",
   "execution_count": 25,
   "metadata": {},
   "outputs": [
    {
     "name": "stdout",
     "output_type": "stream",
     "text": [
      "2000\n"
     ]
    }
   ],
   "source": [
    "def imprimir_precio():\n",
    "    valor = 2000\n",
    "    print(valor)\n",
    "\n",
    "imprimir_precio()\n"
   ]
  },
  {
   "cell_type": "markdown",
   "metadata": {},
   "source": [
    "## Alcance global"
   ]
  },
  {
   "cell_type": "code",
   "execution_count": null,
   "metadata": {},
   "outputs": [],
   "source": [
    "def imprimir_precio():\n",
    "\n",
    "    ##COPIAR DEL DRIVE"
   ]
  },
  {
   "cell_type": "code",
   "execution_count": 33,
   "metadata": {},
   "outputs": [
    {
     "name": "stdout",
     "output_type": "stream",
     "text": [
      "981566148\n"
     ]
    }
   ],
   "source": [
    "## crear una funcion para llamar contactosy asginar diferentes contactos a los 4 primeros numeros\n",
    "## A la funcion le vamos a pasar un numero y me imprime que esta llamando a x contacto \n",
    "\n",
    "\n",
    "def contacto ():\n",
    "    gabi = 981566148\n",
    "    \n",
    "    print(gabi)\n",
    "\n",
    "    \n",
    "gabi()\n",
    "\n",
    "##TERMINA DESPUES"
   ]
  },
  {
   "cell_type": "code",
   "execution_count": 2,
   "metadata": {},
   "outputs": [
    {
     "name": "stdout",
     "output_type": "stream",
     "text": [
      "Llamando a Jose\n"
     ]
    }
   ],
   "source": [
    "## Solucion de Ara del curso\n",
    "\n",
    "def llamar_contacto():\n",
    "    numero_contacto = int(input (\"Seleccione un numero para elegir un contacto\"))\n",
    "\n",
    "    if numero_contacto == 1:\n",
    "        print(\"Llamando a Maria\")\n",
    "    if numero_contacto == 2:\n",
    "        print(\"Llamando a Jose\")\n",
    "    if numero_contacto == 3:\n",
    "        print(\"Llamando a Karen\")\n",
    "    if numero_contacto == 4:\n",
    "        print(\"Llamando a David\")\n",
    "\n",
    "llamar_contacto()\n",
    "\n"
   ]
  },
  {
   "cell_type": "code",
   "execution_count": null,
   "metadata": {},
   "outputs": [],
   "source": [
    "## Solucion de Jenn\n",
    "contacto = int(input(input(\"Ingrese el numero\"))\n",
    "lista = [\"Jenny\", \"Alex\", \"Bruno\", \"Edu\",]"
   ]
  },
  {
   "cell_type": "code",
   "execution_count": null,
   "metadata": {},
   "outputs": [],
   "source": [
    "## Solucion de FER\n",
    "\n",
    "coaches = [ \"Enma\", \"Alex\", \"Enri\"]\n",
    "\n",
    "def impirmir_lista_de_coaches(coaches):\n",
    "    for indice_del_coach in range(len(coaches)):\n",
    "        numero_del_coach = indi\n",
    "\n",
    "while True:\n",
    "    print (\"coaches disponibles:\")\n",
    "    ## imprimir lista de coaches\n",
    "    imprimir_lista_de_coaches(coaches)  if numero_contacto == 1:\n",
    "        print(\"Llamando a Maria\")\n",
    "\n",
    "    ## seleccionar un numero que represente \n",
    "    numero_del_coach_seleccionado = int(input(\"ingresar el numero de un coach de la lista\"))\n",
    "\n"
   ]
  },
  {
   "cell_type": "markdown",
   "metadata": {},
   "source": [
    "# ________________________________________"
   ]
  },
  {
   "cell_type": "markdown",
   "metadata": {},
   "source": []
  }
 ],
 "metadata": {
  "interpreter": {
   "hash": "efce0a6b38bdae242caf4497921e05076efdbe9cc98512ca7ecac2160b9aef5d"
  },
  "kernelspec": {
   "display_name": "Python 3.10.2 64-bit",
   "language": "python",
   "name": "python3"
  },
  "language_info": {
   "codemirror_mode": {
    "name": "ipython",
    "version": 3
   },
   "file_extension": ".py",
   "mimetype": "text/x-python",
   "name": "python",
   "nbconvert_exporter": "python",
   "pygments_lexer": "ipython3",
   "version": "3.10.2"
  },
  "orig_nbformat": 4
 },
 "nbformat": 4,
 "nbformat_minor": 2
}
